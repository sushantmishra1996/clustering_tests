{
 "cells": [
  {
   "cell_type": "code",
   "execution_count": 4,
   "metadata": {
    "collapsed": true
   },
   "outputs": [],
   "source": [
    "#%matplotlib notebook use for 3D visulaization\n",
    "#use for 2D visulaization\n",
    "%matplotlib inline\n",
    "import numpy as np\n",
    "import pandas as pd\n",
    "import matplotlib.pyplot as plt\n",
    "from mpl_toolkits.mplot3d import Axes3D\n",
    "from matplotlib import style\n",
    "style.use(\"ggplot\")\n",
    "from sklearn import preprocessing\n",
    "from sklearn.cluster import DBSCAN\n",
    "from sklearn.discriminant_analysis import LinearDiscriminantAnalysis as LDA\n",
    "from pandas.tools.plotting import parallel_coordinates"
   ]
  },
  {
   "cell_type": "code",
   "execution_count": 5,
   "metadata": {},
   "outputs": [
    {
     "name": "stdout",
     "output_type": "stream",
     "text": [
      "130\n",
      "       0        1        2        3        4        5        6        7    \\\n",
      "0  0.04942  0.15537  0.10378  0.00315 -0.07684  0.10930 -0.12012  0.00998   \n",
      "1  0.01851  0.15563  0.09439  0.01074 -0.06508  0.08417 -0.12596 -0.01034   \n",
      "2  0.01082  0.15771  0.09700  0.01199 -0.07037  0.08370 -0.12972 -0.02015   \n",
      "3  0.00344  0.15708  0.08983  0.01667 -0.07002  0.08982 -0.11281 -0.02076   \n",
      "4  0.00818  0.14428  0.10062  0.01288 -0.08022  0.08662 -0.12081  0.00925   \n",
      "\n",
      "       8        9     ...         118      119      120      121      122  \\\n",
      "0  0.17949 -0.09937   ...     0.05148  0.05036 -0.04160 -0.05253 -0.09725   \n",
      "1  0.19764 -0.08946   ...     0.04244  0.04003 -0.03361 -0.05451 -0.11319   \n",
      "2  0.18503 -0.09199   ...     0.06290  0.02991 -0.01434 -0.05083 -0.09576   \n",
      "3  0.18709 -0.10330   ...     0.07529  0.03276 -0.00964 -0.03383 -0.10586   \n",
      "4  0.18712 -0.08958   ...     0.06415  0.03853 -0.01679 -0.04237 -0.10121   \n",
      "\n",
      "       123      124      125      126      127  \n",
      "0 -0.12206 -0.00535 -0.04487  0.03427  0.00092  \n",
      "1 -0.12196  0.01276 -0.03154  0.04304  0.01308  \n",
      "2 -0.11591  0.01827 -0.05127  0.04530  0.02490  \n",
      "3 -0.12185  0.02782 -0.06179  0.03634  0.02656  \n",
      "4 -0.10596  0.01288 -0.05843  0.03369  0.02726  \n",
      "\n",
      "[5 rows x 128 columns]\n"
     ]
    }
   ],
   "source": [
    "df = pd.read_csv('FRIENDSS07E01.mkv.embedding.txt', header = None, sep=\" \")\n",
    "\n",
    "print(len(df.columns))\n",
    "\n",
    "colnames = ['timestamp', 'faceID']\n",
    "for i in range(0,len(df.columns)-2):\n",
    "    colnames.append(i)\n",
    "df.columns = colnames\n",
    "# print(df.head())\n",
    "\n",
    "Xdf = df.drop(['timestamp','faceID'], axis = 1)\n",
    "print(Xdf.head())\n"
   ]
  },
  {
   "cell_type": "code",
   "execution_count": 45,
   "metadata": {},
   "outputs": [
    {
     "name": "stdout",
     "output_type": "stream",
     "text": [
      "[[ 0.04942  0.15537  0.10378 ..., -0.04487  0.03427  0.00092]\n",
      " [ 0.01851  0.15563  0.09439 ..., -0.03154  0.04304  0.01308]\n",
      " [ 0.01082  0.15771  0.097   ..., -0.05127  0.0453   0.0249 ]\n",
      " ..., \n",
      " [-0.08009  0.18752  0.08897 ..., -0.11762  0.0632   0.10109]\n",
      " [-0.03158  0.11401  0.05489 ..., -0.09667 -0.01233 -0.00733]\n",
      " [-0.08275  0.17119  0.09274 ..., -0.11022  0.05484  0.08971]]\n"
     ]
    }
   ],
   "source": [
    "X = []\n",
    "for i in range(0,len(Xdf.index)):\n",
    "    X.append(np.array(Xdf.iloc[i]))\n",
    "X = np.array(X)\n",
    "print(X)"
   ]
  },
  {
   "cell_type": "code",
   "execution_count": 71,
   "metadata": {},
   "outputs": [
    {
     "name": "stdout",
     "output_type": "stream",
     "text": [
      "[ 0  0  0  0  0  0  0  0  0  0  0  0  0  0  0  0  0  0  0  0  0  0  0  0  0\n",
      "  0  0  0  0  0  0  0  0  0  0  0  0  0  0  0  0  0  0  0  0  0  0  0  0  0\n",
      "  0  0  0  0  0  0  0  0  0  0  0  0  0  0  0  0  0  0  0  0  0  0  0  0  0\n",
      "  0  0  1  0  1  0  1  1  0  0  1  0  1  0  1  1  0  1  0  0  1  0  1  0  1\n",
      "  0  1  1  0  0  1  0  1  0  1  1  0  0  1  0 -1  0 -1  0  1  0  1  0  1  0\n",
      "  1  0  1  1  0  0  1  0  1  0  1  1  0  0  1  0  1  0  1  1  0  1  0  0  1\n",
      "  0  1  0  1  0  1  0  1  0  1  0  1  0  1  1  0  0  1  0  1  0  1  0  1  0\n",
      "  1 -1  1]\n"
     ]
    }
   ],
   "source": [
    "clf = DBSCAN(eps = 0.30)\n",
    "clf.fit(X)\n",
    "y = clf.labels_\n",
    "print(y)\n",
    "#X = preprocessing.scale(X) # No effect of preprocessing before or after fitting"
   ]
  },
  {
   "cell_type": "code",
   "execution_count": 72,
   "metadata": {},
   "outputs": [],
   "source": [
    "#2-dimensional LDA\n",
    "lda = LDA(n_components=2)\n",
    "lda.fit(X,y)\n",
    "# print(X)\n",
    "X_2d = pd.DataFrame(lda.transform(X))\n",
    "# print(X_2d)\n",
    "X_2d['labels']=y.tolist()\n",
    "# print(X_2d.head())"
   ]
  },
  {
   "cell_type": "code",
   "execution_count": 73,
   "metadata": {},
   "outputs": [
    {
     "data": {
      "image/png": "[encoded data removed]",
      "text/plain": [
       "<matplotlib.figure.Figure at 0x7f40260f8d90>"
      ]
     },
     "metadata": {},
     "output_type": "display_data"
    }
   ],
   "source": [
    "#Plotting the data point\n",
    "colors = 10* ['C0', 'C1', 'C2', 'C3', 'C4', 'C5',]\n",
    "\n",
    "#1. For 3d Plotting\n",
    "# fig1 = plt.figure()\n",
    "# ax1 = fig1.add_subplot(111, projection='3d')\n",
    "# for label in set(y):\n",
    "#     color = colors[label]\n",
    "#     for i in range(0,len(X_2d.index)):\n",
    "#         if (X_2d.iloc[i][2] == label):\n",
    "#             ax1.scatter(X_2d.iloc[i][0], X_2d.iloc[i][1],X_2d.iloc[i][2], marker=\"o\", color=color, s=10, linewidths=5)\n",
    "# plt.show()\n",
    "\n",
    "for label in set(y):\n",
    "    color = colors[label]\n",
    "    for i in range(0,len(X_2d.index)):\n",
    "        if (X_2d.iloc[i][2] == label):\n",
    "            plt.scatter(X_2d.iloc[i][0], X_2d.iloc[i][1], marker=\".\", color=color, s=50, linewidths=2)\n",
    "plt.show()"
   ]
  },
  {
   "cell_type": "code",
   "execution_count": null,
   "metadata": {
    "collapsed": true
   },
   "outputs": [],
   "source": []
  },
  {
   "cell_type": "code",
   "execution_count": null,
   "metadata": {
    "collapsed": true
   },
   "outputs": [],
   "source": []
  },
  {
   "cell_type": "code",
   "execution_count": null,
   "metadata": {
    "collapsed": true
   },
   "outputs": [],
   "source": []
  }
 ],
 "metadata": {
  "kernelspec": {
   "display_name": "Python 2",
   "language": "python",
   "name": "python2"
  },
  "language_info": {
   "codemirror_mode": {
    "name": "ipython",
    "version": 2
   },
   "file_extension": ".py",
   "mimetype": "text/x-python",
   "name": "python",
   "nbconvert_exporter": "python",
   "pygments_lexer": "ipython2",
   "version": "2.7.14"
  }
 },
 "nbformat": 4,
 "nbformat_minor": 2
}
