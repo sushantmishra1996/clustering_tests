{
 "cells": [
  {
   "cell_type": "code",
   "execution_count": 31,
   "metadata": {},
   "outputs": [],
   "source": [
    "%matplotlib inline\n",
    "import numpy as np\n",
    "import pandas as pd\n",
    "from decimal import Decimal as D\n",
    "import matplotlib.pyplot as plt\n",
    "from mpl_toolkits.mplot3d import Axes3D\n",
    "from matplotlib import style\n",
    "style.use(\"ggplot\")\n",
    "from sklearn.cluster import MeanShift, KMeans, estimate_bandwidth\n",
    "from sklearn import preprocessing, cross_validation\n",
    "from sklearn.decomposition import PCA as sklearnPCA\n",
    "from pandas.tools.plotting import parallel_coordinates\n",
    "from sklearn import metrics\n",
    "from sklearn.metrics import pairwise_distances"
   ]
  },
  {
   "cell_type": "code",
   "execution_count": 32,
   "metadata": {},
   "outputs": [
    {
     "name": "stdout",
     "output_type": "stream",
     "text": [
      "130\n"
     ]
    }
   ],
   "source": [
    "df = pd.read_csv('FRIENDSS07E01.mkv.embedding.txt', header = None, sep=\" \")\n",
    "\n",
    "print(len(df.columns))\n",
    "\n",
    "colnames = ['timestamp', 'faceID']\n",
    "for i in range(0,len(df.columns)-2):\n",
    "    colnames.append(i)\n",
    "df.columns = colnames\n",
    "# print(df.head())\n",
    "\n",
    "Xdf = df.drop(['timestamp','faceID'], axis = 1)\n",
    "# print(Xdf.head())\n"
   ]
  },
  {
   "cell_type": "code",
   "execution_count": 33,
   "metadata": {},
   "outputs": [
    {
     "name": "stdout",
     "output_type": "stream",
     "text": [
      "[[ 0.04942  0.15537  0.10378 ..., -0.04487  0.03427  0.00092]\n",
      " [ 0.01851  0.15563  0.09439 ..., -0.03154  0.04304  0.01308]\n",
      " [ 0.01082  0.15771  0.097   ..., -0.05127  0.0453   0.0249 ]\n",
      " ..., \n",
      " [-0.08009  0.18752  0.08897 ..., -0.11762  0.0632   0.10109]\n",
      " [-0.03158  0.11401  0.05489 ..., -0.09667 -0.01233 -0.00733]\n",
      " [-0.08275  0.17119  0.09274 ..., -0.11022  0.05484  0.08971]]\n"
     ]
    }
   ],
   "source": [
    "X = []\n",
    "for i in range(0,len(Xdf.index)):\n",
    "    X.append(np.array(Xdf.iloc[i]))\n",
    "X = np.array(X)\n",
    "print(X)\n",
    "# X = preprocessing.scale(X) #comment this if preprocessing after fitting"
   ]
  },
  {
   "cell_type": "code",
   "execution_count": 34,
   "metadata": {
    "collapsed": true
   },
   "outputs": [],
   "source": [
    "# quantile =[]\n",
    "# score =np.array([])\n",
    "# i=D(\"0.01\");j=0\n",
    "# while i <= 0.5:\n",
    "#     quantile.append(i) \n",
    "#     i= i + D(\"0.01\"); j+=1\n",
    "# print(quantile)\n",
    "# j = 0\n",
    "# score = pd.DataFrame()\n",
    "# for q in quantile:\n",
    "#     bandwidth = estimate_bandwidth(X, quantile=q)\n",
    "#     if bandwidth!=0:\n",
    "#         clf = MeanShift(bandwidth = bandwidth)\n",
    "#         clf.fit(X)\n",
    "#         L = clf.labels_\n",
    "#         if int(L.shape[0]) >= 2:\n",
    "#             score[j][0]= metrics.silhouette_score(X, L, metric='euclidean')\n",
    "#             score[j][1]= q\n",
    "#             j+=1\n",
    "# print(score)\n",
    "    \n",
    "# labels = clf.labels_\n",
    "# print(labels)\n",
    "# centers = clf.cluster_centers_\n",
    "# # print(centers)\n",
    "# # print(clf.get_params)\n",
    "# print(metrics.silhouette_score(X, labels, metric='euclidean'))"
   ]
  },
  {
   "cell_type": "code",
   "execution_count": 134,
   "metadata": {},
   "outputs": [
    {
     "name": "stdout",
     "output_type": "stream",
     "text": [
      "0.263933243832\n",
      "[0 0 0 0 0 0 0 0 0 0 0 0 0 0 0 0 0 0 0 0 0 0 0 0 0 0 0 0 0 0 0 0 0 0 0 0 0\n",
      " 0 0 0 0 0 0 0 0 0 0 0 0 0 0 0 0 0 0 0 0 0 0 0 0 0 0 0 0 0 0 0 0 0 0 0 0 0\n",
      " 0 0 0 1 0 1 0 1 1 0 0 1 0 1 0 1 1 0 1 0 0 1 0 1 0 1 0 1 1 0 0 1 0 1 0 1 1\n",
      " 0 0 2 0 2 0 2 0 1 0 1 0 1 0 1 0 1 1 0 0 1 0 1 0 1 1 0 0 1 0 1 0 1 1 0 1 0\n",
      " 0 1 0 1 0 1 0 1 0 1 0 1 0 1 0 1 1 0 0 1 0 1 0 1 0 1 0 1 3 1]\n"
     ]
    }
   ],
   "source": [
    "bandwidth = estimate_bandwidth(X, quantile=0.1)\n",
    "clf = MeanShift(bandwidth = bandwidth)\n",
    "clf.fit(X)\n",
    "L = clf.labels_\n",
    "score = metrics.silhouette_score(X, L, metric='euclidean')\n",
    "print(score)\n",
    "labels = clf.labels_\n",
    "print(labels)\n",
    "centers = clf.cluster_centers_"
   ]
  },
  {
   "cell_type": "code",
   "execution_count": 135,
   "metadata": {},
   "outputs": [
    {
     "name": "stdout",
     "output_type": "stream",
     "text": [
      "          0         1  labels\n",
      "0 -4.917069 -2.791290       0\n",
      "1 -4.564061 -3.017039       0\n",
      "2 -4.303305 -3.420827       0\n",
      "3 -3.662005 -2.808516       0\n",
      "4 -4.185060 -2.597376       0\n",
      "          0         1\n",
      "0  9.554895 -7.544542\n",
      "1 -8.241287 -1.160618\n",
      "2 -9.054932  0.289775\n",
      "3  7.741324  8.415385\n"
     ]
    }
   ],
   "source": [
    "#2-dimensional PCA\n",
    "pca = sklearnPCA(n_components=2)\n",
    "\n",
    "# if preprocessing done after use this:\n",
    "X = preprocessing.scale(X)\n",
    "centers = preprocessing.scale(centers) \n",
    "X_2d = pd.DataFrame(pca.fit_transform(X))\n",
    "X_2d['labels']=labels.tolist()\n",
    "print(X_2d.head())\n",
    "\n",
    "cent_2d_pca =pd.DataFrame(pca.fit_transform(centers))\n",
    "print(cent_2d_pca.head())"
   ]
  },
  {
   "cell_type": "code",
   "execution_count": 136,
   "metadata": {},
   "outputs": [
    {
     "data": {
      "image/png": "[encoded data removed]",
      "text/plain": [
       "<matplotlib.figure.Figure at 0x7f92703c56d0>"
      ]
     },
     "metadata": {},
     "output_type": "display_data"
    }
   ],
   "source": [
    "# fig1 = plt.figure()\n",
    "# ax1 = fig1.add_subplot(111, projection='3d')\n",
    "colors = 100*['C0', 'C1', 'C2', 'C3', 'C4', 'C5', 'C6', 'C7','C8']\n",
    "\n",
    "for label in set(labels):\n",
    "#     print label\n",
    "    color = colors[label]\n",
    "#     print (color)\n",
    "    for i in range(0,len(X_2d.index)):\n",
    "        if (X_2d.iloc[i][2] == label):\n",
    "            plt.scatter(X_2d.iloc[i][0], X_2d.iloc[i][1], marker=\"o\", color=color, s=5, linewidths=5)\n",
    "#             ax1.scatter(X_2d.iloc[i][0], X_2d.iloc[i][1],X_2d.iloc[i][2], marker=\"o\", color=color, s=10, linewidths=5)\n",
    "\n",
    "plt.legend()\n",
    "plt.show()"
   ]
  },
  {
   "cell_type": "code",
   "execution_count": 137,
   "metadata": {},
   "outputs": [
    {
     "data": {
      "image/png": "[encoded data removed]",
      "text/plain": [
       "<matplotlib.figure.Figure at 0x7f92700a8110>"
      ]
     },
     "metadata": {},
     "output_type": "display_data"
    }
   ],
   "source": [
    "for i in cent_2d_pca.index:\n",
    "    plt.scatter(cent_2d_pca.iloc[i][0],cent_2d_pca.iloc[i][1],s = 50)\n",
    "    \n",
    "plt.show()"
   ]
  },
  {
   "cell_type": "code",
   "execution_count": null,
   "metadata": {
    "collapsed": true
   },
   "outputs": [],
   "source": []
  },
  {
   "cell_type": "code",
   "execution_count": null,
   "metadata": {
    "collapsed": true
   },
   "outputs": [],
   "source": []
  },
  {
   "cell_type": "code",
   "execution_count": null,
   "metadata": {
    "collapsed": true
   },
   "outputs": [],
   "source": []
  }
 ],
 "metadata": {
  "kernelspec": {
   "display_name": "Python 2",
   "language": "python",
   "name": "python2"
  },
  "language_info": {
   "codemirror_mode": {
    "name": "ipython",
    "version": 2
   },
   "file_extension": ".py",
   "mimetype": "text/x-python",
   "name": "python",
   "nbconvert_exporter": "python",
   "pygments_lexer": "ipython2",
   "version": "2.7.14"
  }
 },
 "nbformat": 4,
 "nbformat_minor": 2
}
