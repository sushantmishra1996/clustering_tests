{
 "cells": [
  {
   "cell_type": "code",
   "execution_count": 2,
   "metadata": {},
   "outputs": [],
   "source": [
    "#%matplotlib notebook use for 3D visulaization\n",
    "#use for 2D visulaization\n",
    "%matplotlib inline\n",
    "import numpy as np\n",
    "import pandas as pd\n",
    "import matplotlib.pyplot as plt\n",
    "from mpl_toolkits.mplot3d import Axes3D\n",
    "from matplotlib import style\n",
    "style.use(\"ggplot\")\n",
    "from sklearn import preprocessing\n",
    "from sklearn.cluster import KMeans\n",
    "from sklearn.discriminant_analysis import LinearDiscriminantAnalysis as LDA\n",
    "from sklearn.discriminant_analysis import QuadraticDiscriminantAnalysis as QDA\n",
    "from pandas.tools.plotting import parallel_coordinates"
   ]
  },
  {
   "cell_type": "code",
   "execution_count": 3,
   "metadata": {},
   "outputs": [
    {
     "name": "stdout",
     "output_type": "stream",
     "text": [
      "16\n"
     ]
    }
   ],
   "source": [
    "df = pd.read_csv('/home/sushant/test_tsne_speaker.csv', header = None, sep=\",\")\n",
    "\n",
    "print(len(df.columns))\n",
    "\n",
    "colnames = ['timestamp', 'faceID']\n",
    "for i in range(0,len(df.columns)-2):\n",
    "    colnames.append(i)\n",
    "df.columns = colnames\n",
    "# print(df.head())\n",
    "\n",
    "\n",
    "\n",
    "Xdf = df.drop(['timestamp','faceID'], axis = 1)\n",
    "# print(Xdf.head())\n"
   ]
  },
  {
   "cell_type": "code",
   "execution_count": 4,
   "metadata": {},
   "outputs": [],
   "source": [
    "X = []\n",
    "for i in range(0,len(Xdf.index)):\n",
    "    X.append(np.array(Xdf.iloc[i]))\n",
    "X = np.array(X)\n",
    "Z = X\n",
    "X = preprocessing.scale(X) #comment this if preprocessing after fitting"
   ]
  },
  {
   "cell_type": "code",
   "execution_count": 5,
   "metadata": {},
   "outputs": [
    {
     "name": "stdout",
     "output_type": "stream",
     "text": [
      "[2 5 5 5 2 5 0 0 4 1 1 1 4 4 4 0 2 2 2 2 2 2 4 4 4 4 4 4 5 0 0 0 5 5 5 4 5\n",
      " 3 1 3 3 3 3 3 3 3 1 1 1 1 1 1 1 1 1]\n"
     ]
    }
   ],
   "source": [
    "kmeans = KMeans(n_clusters=6, n_jobs = -1,max_iter=100 )\n",
    "kmeans.fit(X)\n",
    "y = kmeans.labels_\n",
    "print(y)\n",
    "\n"
   ]
  },
  {
   "cell_type": "code",
   "execution_count": 6,
   "metadata": {},
   "outputs": [
    {
     "name": "stdout",
     "output_type": "stream",
     "text": [
      "[[ 1.04191088e+00  1.11500160e+00  7.49297846e-01  3.17891870e-01\n",
      "  -4.87605669e-03 -5.34080064e-01 -1.45416246e+00 -2.10308929e-01\n",
      "   1.34066978e+00 -8.04789336e-01  1.41988460e+00  7.71743096e-01\n",
      "   1.23532552e+00  1.01164689e-01]\n",
      " [-9.54876078e-01 -1.20589642e+00 -8.57844616e-01 -7.63369638e-01\n",
      "  -2.94533750e-01 -9.87009402e-02  6.12989980e-01  1.16682306e+00\n",
      "  -1.79047090e-01  1.00622259e+00  1.65548718e-01  2.60829788e-01\n",
      "  -4.37902757e-01  8.12403226e-01]\n",
      " [-7.41347054e-01 -2.02157460e-01 -1.12318622e+00 -5.29276399e-01\n",
      "  -3.15901230e-02  1.28111276e+00  6.07708867e-04 -1.35779226e-01\n",
      "  -1.12552550e+00  9.61938965e-01  3.44623830e-01 -1.12097185e+00\n",
      "  -1.06329307e+00  2.35533694e-01]\n",
      " [ 1.45167148e-01  2.52908965e-01  2.17186209e-01 -8.72419385e-01\n",
      "   1.49654677e+00 -8.65027816e-01  6.11872202e-01 -1.18996737e+00\n",
      "   1.37583808e+00 -9.26270299e-01  8.64288082e-01  1.59779899e+00\n",
      "   3.41644742e-01  4.72736066e-01]\n",
      " [ 1.34333164e+00  9.15130444e-01  1.06912596e+00  9.85579488e-01\n",
      "  -6.19005538e-01  9.48369578e-02 -4.91720458e-01 -2.10445747e-01\n",
      "  -2.01440060e-02 -5.85118172e-01 -8.26624688e-01 -1.73649126e-01\n",
      "   1.09256271e+00 -1.53773326e+00]\n",
      " [-4.27253893e-01 -1.65089238e-01  2.38200831e-01  9.32071775e-01\n",
      "  -1.16933015e-01  1.28562786e-02  1.40576750e-01 -1.09552244e-01\n",
      "  -8.33035897e-01 -2.33467455e-01 -1.24998496e+00 -1.10285806e+00\n",
      "  -8.84913387e-01  8.96418972e-03]]\n"
     ]
    }
   ],
   "source": [
    "centroids = kmeans.cluster_centers_\n",
    "print(centroids)"
   ]
  },
  {
   "cell_type": "code",
   "execution_count": 7,
   "metadata": {},
   "outputs": [],
   "source": [
    "# if preprocessing done after fitting, use this:\n",
    "# X_lda = preprocessing.scale(X_lda)\n",
    "# centroids_lda = preprocessing.scale(centroids_lda) \n"
   ]
  },
  {
   "cell_type": "code",
   "execution_count": 8,
   "metadata": {},
   "outputs": [
    {
     "name": "stdout",
     "output_type": "stream",
     "text": [
      "          0         1  labels\n",
      "0 -2.176069 -2.774319       2\n",
      "1  3.138407 -1.064216       5\n",
      "2  3.733987 -0.827922       5\n",
      "3  2.813616  0.078910       5\n",
      "4 -0.344239 -4.131164       2\n",
      "          0         1\n",
      "0 -1.129866  2.798174\n",
      "1 -3.239525 -2.694979\n",
      "2 -0.605518 -2.967297\n",
      "3 -4.852513  4.426413\n",
      "4  5.640834  1.641785\n"
     ]
    }
   ],
   "source": [
    "#2-dimensional LDA\n",
    "lda = LDA(n_components=2)\n",
    "lda.fit(X,y)\n",
    "X_2d = pd.DataFrame(lda.transform(X))\n",
    "X_2d['labels']=y.tolist()\n",
    "print(X_2d.head())\n",
    "# y_cent = np.asarray(['0','1','2','3','4','5'],dtype= float64)\n",
    "cent_2d =pd.DataFrame(lda.transform(centroids))\n",
    "print(cent_2d.head())"
   ]
  },
  {
   "cell_type": "code",
   "execution_count": 9,
   "metadata": {},
   "outputs": [],
   "source": [
    "#Plotting and Visualization"
   ]
  },
  {
   "cell_type": "code",
   "execution_count": 10,
   "metadata": {},
   "outputs": [
    {
     "data": {
      "image/png": "[encoded data removed]",
      "text/plain": [
       "<Figure size 432x288 with 1 Axes>"
      ]
     },
     "metadata": {},
     "output_type": "display_data"
    }
   ],
   "source": [
    "#Plotting the centroids\n",
    "#1.For 3D plotting\n",
    "# fig = plt.figure()\n",
    "# ax = fig.add_subplot(111, projection='3d')\n",
    "# for i in cent_2d.index:\n",
    "#     ax.scatter(cent_2d.iloc[i][0],cent_2d_lda.iloc[i][1], cent_2d.iloc[i][2],s = 50)\n",
    "# plt.show()\n",
    "    \n",
    "#2. for 2D plotting\n",
    "for i in cent_2d.index:\n",
    "    plt.scatter(cent_2d.iloc[i][0],cent_2d.iloc[i][1],s = 50)\n",
    "    \n",
    "plt.show()"
   ]
  },
  {
   "cell_type": "code",
   "execution_count": 11,
   "metadata": {},
   "outputs": [
    {
     "data": {
      "image/png": "[encoded data removed]",
      "text/plain": [
       "<Figure size 432x288 with 1 Axes>"
      ]
     },
     "metadata": {},
     "output_type": "display_data"
    }
   ],
   "source": [
    "#Plotting the data point\n",
    "colors = ['C0', 'C1', 'C2', 'C3', 'C4', 'C5',]\n",
    "\n",
    "#1. For 3d Plotting\n",
    "# fig1 = plt.figure()\n",
    "# ax1 = fig1.add_subplot(111, projection='3d')\n",
    "# for label in set(y):\n",
    "#     color = colors[label]\n",
    "#     for i in range(0,len(X_2d.index)):\n",
    "#         if (X_2d.iloc[i][2] == label):\n",
    "#             ax1.scatter(X_2d.iloc[i][0], X_2d.iloc[i][1],X_2d.iloc[i][2], marker=\"o\", color=color, s=10, linewidths=5)\n",
    "# plt.show()\n",
    "\n",
    "for label in set(y):\n",
    "    color = colors[label]\n",
    "    for i in range(0,len(X_2d.index)):\n",
    "        if (X_2d.iloc[i][2] == label):\n",
    "            plt.scatter(X_2d.iloc[i][0], X_2d.iloc[i][1], marker=\".\", color=color, s=5, linewidths=2)\n",
    "plt.show()"
   ]
  },
  {
   "cell_type": "code",
   "execution_count": 155,
   "metadata": {},
   "outputs": [
    {
     "name": "stdout",
     "output_type": "stream",
     "text": [
      "[0 0 0 0 0 0 0 0 0 3 0 3 2 2 2 2 2 2 2 2 2 2 2 2 0 0 0 0 0 0 0 0 0 0 0 0 0\n",
      " 2 2 2 2 2 2 2 2 2 2 2 2 4 4 4 4 4 4 4 4 4 4 4 4 4 4 4 4 4 4 4 4 4 4 4 4 4\n",
      " 4 4 4 5 3 5 3 5 5 3 3 5 3 5 3 5 5 3 5 3 3 5 3 5 3 5 3 5 5 3 3 5 3 5 3 5 5\n",
      " 3 3 1 3 5 3 5 3 5 3 5 3 5 3 5 3 5 1 3 3 1 3 1 3 1 1 3 3 1 3 1 3 1 1 3 1 3\n",
      " 3 1 3 1 3 1 3 1 3 1 3 1 4 1 4 1 1 4 4 1 4 1 4 1 4 1 4 1 2 1]\n"
     ]
    }
   ],
   "source": [
    "kmeans1 = KMeans(n_clusters=6, n_jobs = -1,max_iter=100 )\n",
    "kmeans1.fit(Z)\n",
    "z = kmeans1.labels_\n",
    "print(z)\n",
    "\n",
    "Zcentroids = kmeans1.cluster_centers_\n",
    "# print(Zcentroids)"
   ]
  },
  {
   "cell_type": "code",
   "execution_count": 156,
   "metadata": {},
   "outputs": [],
   "source": [
    "#if preprocessing done after fitting, use this:\n",
    "Z = preprocessing.scale(Z)\n",
    "Zcentroids = preprocessing.scale(Zcentroids) \n",
    "# print(Zcentroids)\n",
    "# print(Z)"
   ]
  },
  {
   "cell_type": "code",
   "execution_count": 157,
   "metadata": {},
   "outputs": [
    {
     "name": "stdout",
     "output_type": "stream",
     "text": [
      "           0         1  labels\n",
      "0 -15.462167 -4.212749       0\n",
      "1 -16.489137 -3.140638       0\n",
      "2 -15.261710 -4.342877       0\n",
      "3 -13.931519 -5.172417       0\n",
      "4 -14.868852 -4.934913       0\n",
      "            0            1\n",
      "0  -32.592863  1491.481929\n",
      "1 -467.111176 -1016.824865\n",
      "2  229.771879     0.182213\n",
      "3 -667.328732  -371.308592\n",
      "4 -251.794245  1745.802389\n"
     ]
    }
   ],
   "source": [
    "#2-dimensional LDA\n",
    "lda = LDA(n_components=2)\n",
    "lda.fit(Z,z) #Maximizes class separability using z\n",
    "# print(u)\n",
    "# print(z)\n",
    "Z_2d = pd.DataFrame(lda.transform(Z))\n",
    "Z_2d['labels']=z.tolist()\n",
    "print(Z_2d.head())\n",
    "Zcent_2d =pd.DataFrame(lda.transform(Zcentroids))\n",
    "print(Zcent_2d.head())#if preprocessing done after fitting, use this:"
   ]
  },
  {
   "cell_type": "code",
   "execution_count": null,
   "metadata": {
    "collapsed": true
   },
   "outputs": [],
   "source": []
  },
  {
   "cell_type": "code",
   "execution_count": 158,
   "metadata": {},
   "outputs": [
    {
     "data": {
      "image/png": "[encoded data removed]",
      "text/plain": [
       "<matplotlib.figure.Figure at 0x7fef22a0ae10>"
      ]
     },
     "metadata": {},
     "output_type": "display_data"
    }
   ],
   "source": [
    "#2. for 2D plotting.\n",
    "colors = ['C0', 'C1', 'C2', 'C3', 'C4', 'C5',]\n",
    "for i in Zcent_2d.index:\n",
    "    plt.scatter(Zcent_2d.iloc[i][0],Zcent_2d.iloc[i][1],color = colors[i],s = 50)\n",
    "    \n",
    "plt.show()\n",
    "#difference happens because there's different fitting of centroids and the data points for maximizing class separability\n",
    "#in preprocessing after fitting, the centroids are treated as a separately new dataset itself and fitted differently than dataset."
   ]
  },
  {
   "cell_type": "code",
   "execution_count": 159,
   "metadata": {},
   "outputs": [
    {
     "data": {
      "image/png": "[encoded data removed]",
      "text/plain": [
       "<matplotlib.figure.Figure at 0x7fef227f61d0>"
      ]
     },
     "metadata": {},
     "output_type": "display_data"
    }
   ],
   "source": [
    "#Plotting the data point\n",
    "colors = ['C0', 'C1', 'C2', 'C3', 'C4', 'C5',]\n",
    "for label in set(z):\n",
    "    color = colors[label]\n",
    "    for i in range(0,len(Z_2d.index)):\n",
    "        if (Z_2d.iloc[i][2] == label):\n",
    "            plt.scatter(Z_2d.iloc[i][0], Z_2d.iloc[i][1], marker=\".\", color=color, s=5, linewidths=2)\n",
    "plt.show()"
   ]
  },
  {
   "cell_type": "code",
   "execution_count": null,
   "metadata": {
    "collapsed": true
   },
   "outputs": [],
   "source": []
  },
  {
   "cell_type": "code",
   "execution_count": null,
   "metadata": {
    "collapsed": true
   },
   "outputs": [],
   "source": []
  }
 ],
 "metadata": {
  "kernelspec": {
   "display_name": "Python 3",
   "language": "python",
   "name": "python3"
  },
  "language_info": {
   "codemirror_mode": {
    "name": "ipython",
    "version": 3
   },
   "file_extension": ".py",
   "mimetype": "text/x-python",
   "name": "python",
   "nbconvert_exporter": "python",
   "pygments_lexer": "ipython3",
   "version": "3.6.4"
  }
 },
 "nbformat": 4,
 "nbformat_minor": 2
}
