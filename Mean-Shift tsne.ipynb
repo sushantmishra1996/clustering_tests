{
 "cells": [
  {
   "cell_type": "code",
   "execution_count": 2,
   "metadata": {},
   "outputs": [
    {
     "name": "stderr",
     "output_type": "stream",
     "text": [
      "/home/sushant/.local/lib/python3.6/site-packages/sklearn/cross_validation.py:41: DeprecationWarning: This module was deprecated in version 0.18 in favor of the model_selection module into which all the refactored classes and functions are moved. Also note that the interface of the new CV iterators are different from that of this module. This module will be removed in 0.20.\n",
      "  \"This module will be removed in 0.20.\", DeprecationWarning)\n"
     ]
    }
   ],
   "source": [
    "%matplotlib inline\n",
    "import numpy as np\n",
    "import pandas as pd\n",
    "from decimal import Decimal as D\n",
    "import matplotlib.pyplot as plt\n",
    "from mpl_toolkits.mplot3d import Axes3D\n",
    "from matplotlib import style\n",
    "style.use(\"ggplot\")\n",
    "from sklearn.cluster import MeanShift, KMeans, estimate_bandwidth\n",
    "from sklearn import preprocessing, cross_validation\n",
    "from sklearn.manifold import TSNE\n",
    "from pandas.tools.plotting import parallel_coordinates\n",
    "from sklearn import metrics\n",
    "from sklearn.metrics import pairwise_distances"
   ]
  },
  {
   "cell_type": "code",
   "execution_count": 3,
   "metadata": {},
   "outputs": [],
   "source": [
    "# df = pd.read_csv('FRIENDSS07E01.mkv.embedding.txt', header = None, sep=\" \")\n",
    "\n",
    "# print(len(df.columns))\n",
    "\n",
    "# colnames = ['timestamp', 'faceID']\n",
    "# for i in range(0,len(df.columns)-2):\n",
    "#     colnames.append(i)\n",
    "# df.columns = colnames\n",
    "# # print(df.head())\n",
    "\n",
    "# Xdf = df.drop(['timestamp','faceID'], axis = 1)\n",
    "# # print(Xdf.head())\n"
   ]
  },
  {
   "cell_type": "code",
   "execution_count": 5,
   "metadata": {},
   "outputs": [
    {
     "name": "stdout",
     "output_type": "stream",
     "text": [
      "         0         1         2         3         4         5         6   \\\n",
      "0 -0.164152 -0.302162  0.211064  0.211151  0.419192  0.274603  0.124740   \n",
      "1 -0.050472 -0.297365  0.181217  0.230241  0.445062  0.340195  0.122685   \n",
      "2 -0.083627 -0.235964  0.176069  0.200003  0.454272  0.323873  0.152781   \n",
      "3 -0.012543 -0.147556  0.094068  0.150409  0.467328  0.342738  0.209469   \n",
      "4  0.088981 -0.136940  0.040995  0.039686  0.464015  0.410829  0.099991   \n",
      "\n",
      "         7         8         9         10        11        12        13  \\\n",
      "0 -0.259454 -0.026886  0.175936  0.132312 -0.481270 -0.000935  0.149690   \n",
      "1 -0.265239 -0.043326  0.157394  0.078177 -0.520071 -0.029987  0.061668   \n",
      "2 -0.278317 -0.068040  0.146759  0.121547 -0.540901  0.020743  0.088158   \n",
      "3 -0.324625 -0.059350  0.125135  0.148515 -0.589404  0.040652  0.075865   \n",
      "4 -0.335265 -0.113572  0.171990  0.180895 -0.571695  0.018924 -0.010116   \n",
      "\n",
      "         14        15  \n",
      "0  0.378848 -0.108981  \n",
      "1  0.328048 -0.091686  \n",
      "2  0.327154 -0.074295  \n",
      "3  0.252882  0.038493  \n",
      "4  0.208119  0.133307  \n"
     ]
    }
   ],
   "source": [
    "df = pd.read_csv('final.csv', header = None, sep=\",\")\n",
    "print (df.head())\n",
    "Xdf=df"
   ]
  },
  {
   "cell_type": "code",
   "execution_count": 6,
   "metadata": {},
   "outputs": [
    {
     "name": "stdout",
     "output_type": "stream",
     "text": [
      "[[-0.16415246 -0.30216151  0.21106423  0.21115108  0.41919219  0.27460289\n",
      "   0.12473988 -0.25945356 -0.0268862   0.17593631  0.13231236 -0.48127043\n",
      "  -0.00093474  0.14969005  0.37884751 -0.10898085]\n",
      " [-0.05047202 -0.29736489  0.18121682  0.23024112  0.44506207  0.34019533\n",
      "   0.12268537 -0.26523867 -0.04332632  0.15739378  0.07817675 -0.52007127\n",
      "  -0.02998671  0.06166833  0.32804811 -0.09168641]\n",
      " [-0.08362732 -0.23596415  0.17606914  0.20000345  0.45427197  0.32387298\n",
      "   0.15278143 -0.27831712 -0.06803996  0.14675893  0.12154726 -0.54090071\n",
      "   0.02074344  0.08815792  0.32715383 -0.07429463]\n",
      " [-0.01254274 -0.14755623  0.09406831  0.15040907  0.46732792  0.34273836\n",
      "   0.20946886 -0.32462472 -0.05935034  0.12513533  0.148515   -0.58940428\n",
      "   0.04065195  0.07586531  0.25288221  0.0384935 ]\n",
      " [ 0.08898091 -0.13693984  0.04099501  0.03968573  0.46401504  0.41082937\n",
      "   0.09999053 -0.33526546 -0.1135723   0.17198983  0.18089546 -0.57169515\n",
      "   0.01892437 -0.01011587  0.20811938  0.13330725]\n",
      " [ 0.37220788 -0.17902565 -0.40230304  0.16274677 -0.29036883 -0.21398222\n",
      "   0.12051745 -0.05626876  0.34700552 -0.29494223 -0.24735498  0.33611199\n",
      "   0.10903264 -0.08616629  0.00368237  0.30397016]\n",
      " [ 0.40068099  0.13832511 -0.2558589   0.25512153 -0.27822751 -0.2991029\n",
      "   0.15970346  0.02919449  0.30017745 -0.49558127 -0.09927463  0.22942746\n",
      "   0.19079886  0.04162325  0.10727612  0.22066948]\n",
      " [ 0.38865155  0.12266626 -0.28451088  0.19938961 -0.28559393 -0.30124488\n",
      "   0.12605464  0.05509505  0.29546222 -0.50940734 -0.21761598  0.26378459\n",
      "   0.16637284 -0.05288059  0.04165176  0.16130324]\n",
      " [ 0.2367758  -0.16205224 -0.22659102  0.09243    -0.27033144 -0.22902006\n",
      "   0.1048871   0.04942561  0.38982424 -0.50725436 -0.42788839  0.29276043\n",
      "  -0.08787499 -0.14747573 -0.10480074 -0.01716353]\n",
      " [ 0.24113274 -0.24004592 -0.2512852   0.05521641 -0.24945956 -0.17661068\n",
      "   0.09164029  0.01523064  0.39314395 -0.43907422 -0.45681956  0.31709453\n",
      "  -0.12242182 -0.18692072 -0.09698331  0.008655  ]\n",
      " [ 0.27611077 -0.25793466 -0.40267256  0.01029972 -0.27520779 -0.19380032\n",
      "   0.11780456 -0.0215275   0.34062728 -0.23176326 -0.40085065  0.36845052\n",
      "  -0.00729355 -0.1947438  -0.15497424  0.19791004]\n",
      " [ 0.20095251 -0.14765428 -0.40830278 -0.05758235 -0.28129005 -0.26101494\n",
      "   0.23988332 -0.00842024  0.34416237 -0.24181382 -0.39875251  0.3378717\n",
      "   0.00882822 -0.12928264 -0.23437341  0.20277169]\n",
      " [ 0.1772988  -0.17591904 -0.37228677 -0.04600053 -0.27723742 -0.26018152\n",
      "   0.20933974  0.03836214  0.33791214 -0.28406078 -0.43878245  0.36288097\n",
      "  -0.03055113 -0.1696381  -0.22031327  0.09858049]\n",
      " [-0.05415629 -0.32027915 -0.32943374 -0.15607743 -0.20086753 -0.19460446\n",
      "   0.21080066  0.0096554   0.358107   -0.21364012 -0.48757312  0.29818058\n",
      "  -0.15916747 -0.15395376 -0.29714006 -0.03166252]\n",
      " [-0.21781719 -0.37158972 -0.25631016 -0.22730829 -0.15895136 -0.20548603\n",
      "   0.18018474 -0.00349299  0.37292206 -0.21114631 -0.49555579  0.28861931\n",
      "  -0.14963904 -0.05474363 -0.2276931  -0.08591188]\n",
      " [-0.23041201 -0.45858344 -0.21815285 -0.18620929 -0.15535006 -0.16937947\n",
      "   0.06761459  0.004192    0.35788938 -0.17463064 -0.49915782  0.34666702\n",
      "  -0.15477289 -0.09385053 -0.13710256 -0.13212855]]\n"
     ]
    }
   ],
   "source": [
    "X = []\n",
    "for i in range(0,len(Xdf.index)):\n",
    "    X.append(np.array(Xdf.iloc[i]))\n",
    "X = np.array(X)\n",
    "print(X)\n",
    "# X = preprocessing.scale(X) #comment this if preprocessing after fitting"
   ]
  },
  {
   "cell_type": "code",
   "execution_count": 7,
   "metadata": {},
   "outputs": [
    {
     "name": "stdout",
     "output_type": "stream",
     "text": [
      "0.703031609763616\n",
      "[1 1 1 1 1 0 0 0 0 0 0 0 0 0 0 0]\n"
     ]
    }
   ],
   "source": [
    "bandwidth = estimate_bandwidth(X, quantile=0.5)\n",
    "clf = MeanShift(bandwidth = bandwidth)\n",
    "clf.fit(X)\n",
    "L = clf.labels_\n",
    "score = metrics.silhouette_score(X, L, metric='euclidean')\n",
    "print(score)\n",
    "labels = clf.labels_\n",
    "print(labels)\n",
    "centers = clf.cluster_centers_\n",
    "c = clf.cluster_centers_"
   ]
  },
  {
   "cell_type": "code",
   "execution_count": 8,
   "metadata": {},
   "outputs": [
    {
     "name": "stdout",
     "output_type": "stream",
     "text": [
      "[0 1]\n"
     ]
    }
   ],
   "source": [
    "model = TSNE(n_components=2, n_iter = 1000 , learning_rate =200 , angle = 0.5 )\n",
    "X = np.append(X,centers,axis = 0) #\n",
    "c = len(set(labels))\n",
    "clabels = np.arange(0,c,1)\n",
    "# print(len(set(labels)))\n",
    "# for i in range(0,len(set(labels))):\n",
    "#     np.append(clabels,i)\n",
    "#     print(i)\n",
    "print(clabels)\n",
    "labels = np.append(labels,clabels)#\n",
    "X_2d = pd.DataFrame(model.fit_transform(X))\n",
    "cent_2d =pd.DataFrame(model.fit_transform(centers))\n",
    "X_2d['labels']=labels.tolist()"
   ]
  },
  {
   "cell_type": "code",
   "execution_count": 9,
   "metadata": {},
   "outputs": [
    {
     "name": "stderr",
     "output_type": "stream",
     "text": [
      "No handles with labels found to put in legend.\n"
     ]
    },
    {
     "data": {
      "image/png": "[encoded data removed]",
      "text/plain": [
       "<Figure size 432x288 with 1 Axes>"
      ]
     },
     "metadata": {},
     "output_type": "display_data"
    }
   ],
   "source": [
    "# fig1 = plt.figure()\n",
    "# ax1 = fig1.add_subplot(111, projection='3d')\n",
    "colors = 100*['C0', 'C1', 'C2', 'C3', 'C4', 'C5', 'C6', 'C7','C8']\n",
    "\n",
    "for label in set(labels):\n",
    "#     print label\n",
    "    color = colors[label]\n",
    "#     print (color)\n",
    "    for i in range(0,(len(X_2d.index)-c)):\n",
    "        if (X_2d.iloc[i][2] == label):\n",
    "            plt.scatter(X_2d.iloc[i][0], X_2d.iloc[i][1], marker=\"o\", color=color, s=8, linewidths=5)\n",
    "#             ax1.scatter(X_2d.iloc[i][0], X_2d.iloc[i][1],X_2d.iloc[i][2], marker=\"o\", color=color, s=10, linewidths=5)\n",
    "    for i in range((len(X_2d.index)-c), len(X_2d.index)):\n",
    "        if (X_2d.iloc[i][2] == label):\n",
    "            plt.scatter(X_2d.iloc[i][0], X_2d.iloc[i][1], marker=\"x\", color='k', s=8, linewidths=5)\n",
    "plt.legend()\n",
    "plt.show()"
   ]
  },
  {
   "cell_type": "code",
   "execution_count": 10,
   "metadata": {},
   "outputs": [
    {
     "data": {
      "image/png": "[encoded data removed]",
      "text/plain": [
       "<Figure size 432x288 with 1 Axes>"
      ]
     },
     "metadata": {},
     "output_type": "display_data"
    }
   ],
   "source": [
    "for i in cent_2d.index:\n",
    "    plt.scatter(cent_2d.iloc[i][0],cent_2d.iloc[i][1],s = 50)\n",
    "    \n",
    "plt.show()"
   ]
  },
  {
   "cell_type": "code",
   "execution_count": null,
   "metadata": {
    "collapsed": true
   },
   "outputs": [],
   "source": []
  },
  {
   "cell_type": "code",
   "execution_count": null,
   "metadata": {
    "collapsed": true
   },
   "outputs": [],
   "source": []
  },
  {
   "cell_type": "code",
   "execution_count": null,
   "metadata": {
    "collapsed": true
   },
   "outputs": [],
   "source": []
  }
 ],
 "metadata": {
  "kernelspec": {
   "display_name": "Python 3",
   "language": "python",
   "name": "python3"
  },
  "language_info": {
   "codemirror_mode": {
    "name": "ipython",
    "version": 3
   },
   "file_extension": ".py",
   "mimetype": "text/x-python",
   "name": "python",
   "nbconvert_exporter": "python",
   "pygments_lexer": "ipython3",
   "version": "3.6.4"
  }
 },
 "nbformat": 4,
 "nbformat_minor": 2
}
